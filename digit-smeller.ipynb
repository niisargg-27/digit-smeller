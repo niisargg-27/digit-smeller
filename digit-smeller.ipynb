{
 "cells": [
  {
   "cell_type": "code",
   "execution_count": 1,
   "id": "d1fe31de-1c1b-4435-96c5-a6a84ee0d250",
   "metadata": {},
   "outputs": [],
   "source": [
    "import numpy as np\n",
    "import tensorflow as tf\n",
    "from tensorflow import keras\n",
    "import matplotlib.pyplot as plt"
   ]
  },
  {
   "cell_type": "code",
   "execution_count": 2,
   "id": "e7848e10-03e5-471a-b27d-a324618cb80e",
   "metadata": {},
   "outputs": [],
   "source": [
    "(xtrain,ytrain), (xtest,ytest) = keras.datasets.mnist.load_data()"
   ]
  },
  {
   "cell_type": "code",
   "execution_count": 3,
   "id": "becec3b3-395f-426e-aef8-08c6edb7072c",
   "metadata": {},
   "outputs": [
    {
     "data": {
      "text/plain": [
       "<matplotlib.image.AxesImage at 0x1f8ee838400>"
      ]
     },
     "execution_count": 3,
     "metadata": {},
     "output_type": "execute_result"
    },
    {
     "data": {
      "image/png": "[encoded data removed]",
      "text/plain": [
       "<Figure size 480x480 with 1 Axes>"
      ]
     },
     "metadata": {},
     "output_type": "display_data"
    }
   ],
   "source": [
    "plt.matshow(xtrain[23])"
   ]
  },
  {
   "cell_type": "code",
   "execution_count": 4,
   "id": "5ab56a1f-a47e-4e54-b2b0-96687f646ffc",
   "metadata": {},
   "outputs": [],
   "source": [
    "xtrain = xtrain/255\n",
    "xtest=xtest/255\n",
    "\n",
    "xtrain_flattened = xtrain.reshape(len(xtrain),28*28)\n",
    "xtest_flattened = xtest.reshape(len(xtest),28*28)"
   ]
  },
  {
   "cell_type": "markdown",
   "id": "ea82f46f-bd1a-4781-ad89-8a50bdb45c69",
   "metadata": {},
   "source": [
    "Flattened the 28x28 array and scaled down to 0-1 range"
   ]
  },
  {
   "cell_type": "code",
   "execution_count": 10,
   "id": "e2874239-f30b-4f04-bbf8-c1ccb1ca90cb",
   "metadata": {},
   "outputs": [],
   "source": [
    "# xtrain_flattened[23]"
   ]
  },
  {
   "cell_type": "markdown",
   "id": "c829fbea-3199-4b17-8517-b60b073641a4",
   "metadata": {},
   "source": [
    "First Model. no hidden layer, 784 inputs connecting to 10 outputs each one for each digit"
   ]
  },
  {
   "cell_type": "code",
   "execution_count": 11,
   "id": "845a5181-f77b-42db-a641-9708ec38f030",
   "metadata": {},
   "outputs": [
    {
     "name": "stdout",
     "output_type": "stream",
     "text": [
      "Epoch 1/5\n",
      "1875/1875 [==============================] - 5s 2ms/step - loss: 0.4649 - accuracy: 0.8786\n",
      "Epoch 2/5\n",
      "1875/1875 [==============================] - 4s 2ms/step - loss: 0.3036 - accuracy: 0.9151\n",
      "Epoch 3/5\n",
      "1875/1875 [==============================] - 5s 2ms/step - loss: 0.2836 - accuracy: 0.9208\n",
      "Epoch 4/5\n",
      "1875/1875 [==============================] - 4s 2ms/step - loss: 0.2733 - accuracy: 0.9234\n",
      "Epoch 5/5\n",
      "1875/1875 [==============================] - 4s 2ms/step - loss: 0.2671 - accuracy: 0.9258\n"
     ]
    },
    {
     "data": {
      "text/plain": [
       "<keras.src.callbacks.History at 0x1f898a45d30>"
      ]
     },
     "execution_count": 11,
     "metadata": {},
     "output_type": "execute_result"
    }
   ],
   "source": [
    "model = keras.Sequential([\n",
    "    keras.layers.Dense(10, input_shape=(784,),activation='sigmoid')\n",
    "])\n",
    "model.compile(\n",
    "    optimizer='adam',\n",
    "    loss='sparse_categorical_crossentropy',\n",
    "    metrics=['accuracy']\n",
    "             )\n",
    "model.fit(xtrain_flattened,ytrain,epochs=5)"
   ]
  },
  {
   "cell_type": "code",
   "execution_count": 7,
   "id": "a02574c1-1df0-4544-a0b7-931686c69850",
   "metadata": {},
   "outputs": [
    {
     "name": "stdout",
     "output_type": "stream",
     "text": [
      "313/313 [==============================] - 1s 2ms/step - loss: 0.2677 - accuracy: 0.9253\n"
     ]
    },
    {
     "data": {
      "text/plain": [
       "[0.2677266299724579, 0.9253000020980835]"
      ]
     },
     "execution_count": 7,
     "metadata": {},
     "output_type": "execute_result"
    }
   ],
   "source": [
    "model.evaluate(xtest_flattened,ytest)"
   ]
  },
  {
   "cell_type": "markdown",
   "id": "5da1d0a2-4b86-4cee-879a-2d6452bffd9b",
   "metadata": {},
   "source": [
    "Used one hidden layer with RELU activation and 100 neurons. improved accuracy from 0.92 to 0.9915 !!"
   ]
  },
  {
   "cell_type": "code",
   "execution_count": 16,
   "id": "f44e379a-8ce3-4679-ac31-9ce6a88fc1ee",
   "metadata": {},
   "outputs": [
    {
     "name": "stdout",
     "output_type": "stream",
     "text": [
      "Epoch 1/8\n",
      "1875/1875 [==============================] - 16s 8ms/step - loss: 0.1943 - accuracy: 0.9422\n",
      "Epoch 2/8\n",
      "1875/1875 [==============================] - 16s 8ms/step - loss: 0.0821 - accuracy: 0.9742\n",
      "Epoch 3/8\n",
      "1875/1875 [==============================] - 18s 9ms/step - loss: 0.0554 - accuracy: 0.9825\n",
      "Epoch 4/8\n",
      "1875/1875 [==============================] - 16s 9ms/step - loss: 0.0414 - accuracy: 0.9863\n",
      "Epoch 5/8\n",
      "1875/1875 [==============================] - 17s 9ms/step - loss: 0.0326 - accuracy: 0.9892\n",
      "Epoch 6/8\n",
      "1875/1875 [==============================] - 15s 8ms/step - loss: 0.0245 - accuracy: 0.9920\n",
      "Epoch 7/8\n",
      "1875/1875 [==============================] - 16s 9ms/step - loss: 0.0222 - accuracy: 0.9928\n",
      "Epoch 8/8\n",
      "1875/1875 [==============================] - 16s 8ms/step - loss: 0.0201 - accuracy: 0.9937\n"
     ]
    },
    {
     "data": {
      "text/plain": [
       "<keras.src.callbacks.History at 0x1f8a8794cd0>"
      ]
     },
     "execution_count": 17,
     "metadata": {},
     "output_type": "execute_result"
    }
   ],
   "source": [
    "model = keras.Sequential([\n",
    "    keras.layers.Dense(100, input_shape=(784,),activation='relu'),\n",
    "    keras.layers.Dense(10, activation='sigmoid')\n",
    "    \n",
    "])\n",
    "model.compile(\n",
    "    optimizer='adam',\n",
    "    loss='sparse_categorical_crossentropy',\n",
    "    metrics=['accuracy']\n",
    "             )\n",
    "model.fit(xtrain_flattened,ytrain,epochs=8)"
   ]
  },
  {
   "cell_type": "markdown",
   "id": "787e71ad-bd09-4179-b005-819bb4a5cbbc",
   "metadata": {},
   "source": [
    "Tried different optimizers (8 epochs) -\n",
    "sgd(stochastic gradient descent) - 0.9458 || \n",
    "rmsprop - 0.9875 || \n",
    "adadelta - 0.7019 || \n",
    "adagrad - 0.9008 || \n",
    "adamax - 0.9751 || \n",
    "**adam - 0.9915**"
   ]
  },
  {
   "cell_type": "markdown",
   "id": "cff417ee-5f1f-4fc3-b5e1-4bfa64fb8df3",
   "metadata": {},
   "source": [
    "Used another hidden layer. now with 2 layers of 400 and 100 neurons each using 'relu'. improved accuracy from 0.9915 to 0.9937 . "
   ]
  },
  {
   "cell_type": "code",
   "execution_count": null,
   "id": "c9f55d6e-ac76-448a-a726-4467e44daf09",
   "metadata": {},
   "outputs": [],
   "source": [
    "model = keras.Sequential([\n",
    "    keras.layers.Dense(400, input_shape=(784,),activation='relu'),\n",
    "    keras.layers.Dense(100, input_shape=(784,),activation='relu'),\n",
    "    keras.layers.Dense(10, activation='sigmoid')\n",
    "    \n",
    "])\n",
    "model.compile(\n",
    "    optimizer='adam',\n",
    "    loss='sparse_categorical_crossentropy',\n",
    "    metrics=['accuracy']\n",
    "             )\n",
    "model.fit(xtrain_flattened,ytrain,epochs=8)"
   ]
  },
  {
   "cell_type": "code",
   "execution_count": 18,
   "id": "bbbd29d3-1b89-4b5a-afa9-7f9d43177aa0",
   "metadata": {},
   "outputs": [
    {
     "name": "stdout",
     "output_type": "stream",
     "text": [
      "313/313 [==============================] - 1s 2ms/step - loss: 0.0979 - accuracy: 0.9742\n"
     ]
    },
    {
     "data": {
      "text/plain": [
       "[0.09789453446865082, 0.9742000102996826]"
      ]
     },
     "execution_count": 18,
     "metadata": {},
     "output_type": "execute_result"
    }
   ],
   "source": [
    "model.evaluate(xtest_flattened,ytest)"
   ]
  }
 ],
 "metadata": {
  "kernelspec": {
   "display_name": "Python 3 (ipykernel)",
   "language": "python",
   "name": "python3"
  },
  "language_info": {
   "codemirror_mode": {
    "name": "ipython",
    "version": 3
   },
   "file_extension": ".py",
   "mimetype": "text/x-python",
   "name": "python",
   "nbconvert_exporter": "python",
   "pygments_lexer": "ipython3",
   "version": "3.9.13"
  }
 },
 "nbformat": 4,
 "nbformat_minor": 5
}
